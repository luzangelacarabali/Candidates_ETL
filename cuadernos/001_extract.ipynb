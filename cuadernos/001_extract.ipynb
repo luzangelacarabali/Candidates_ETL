{
 "cells": [
  {
   "cell_type": "markdown",
   "id": "e2a30f01",
   "metadata": {},
   "source": [
    "## Workshop #1 - Notebook 1: Loading the Initial Data  \n",
    "\n",
    "In this notebook, we’ll focus on the first step of the process: loading raw data into a PostgreSQL database. To make this task simple and efficient, we’ll use the `conexion_db.py` module.  \n",
    "\n",
    "This module helps us read environment variables and establish a database connection using SQLAlchemy. Once the connection is set up, we can easily transfer the data using Pandas' `pd.DataFrame.to_sql()` function.  \n",
    "\n",
    "With this, everything will be ready for the next steps in our analysis. Let’s get started! 🚀  \n"
   ]
  },
  {
   "cell_type": "markdown",
   "id": "88592874",
   "metadata": {},
   "source": [
    "## Setting the environment"
   ]
  },
  {
   "cell_type": "code",
   "execution_count": 1,
   "id": "5413f7fa-04cc-4cef-a77d-60588bd69a4e",
   "metadata": {},
   "outputs": [],
   "source": [
    "import sys\n",
    "sys.path.append('../config')"
   ]
  },
  {
   "cell_type": "markdown",
   "id": "fbcc037a",
   "metadata": {},
   "source": [
    "## Importing libraries and modules"
   ]
  },
  {
   "cell_type": "code",
   "execution_count": 2,
   "id": "d570c025-5a21-4c5a-b4ca-969fcbcdffe6",
   "metadata": {},
   "outputs": [],
   "source": [
    "from sqlalchemy import text\n",
    "from conexion_db import get_engine\n",
    "import pandas as pd\n",
    "from sqlalchemy import Column, Integer, String,Date,inspect\n",
    "from sqlalchemy.orm import declarative_base\n",
    "\n"
   ]
  },
  {
   "cell_type": "markdown",
   "id": "55fefbde",
   "metadata": {},
   "source": [
    "## Reading the dataset"
   ]
  },
  {
   "cell_type": "code",
   "execution_count": 3,
   "id": "3c60ef51-2da4-47fb-bbff-b2b5a46057e6",
   "metadata": {},
   "outputs": [],
   "source": [
    "df = pd.read_csv(r\"C:/Users/Acer/OneDrive/Escritorio/Workshops y Proyectos/workshop1/datos/candidates.csv\", sep=\";\")\n"
   ]
  },
  {
   "cell_type": "code",
   "execution_count": 4,
   "id": "ba20dfbd-9708-40b5-b56d-a52cec2b05e3",
   "metadata": {},
   "outputs": [
    {
     "data": {
      "text/html": [
       "<div>\n",
       "<style scoped>\n",
       "    .dataframe tbody tr th:only-of-type {\n",
       "        vertical-align: middle;\n",
       "    }\n",
       "\n",
       "    .dataframe tbody tr th {\n",
       "        vertical-align: top;\n",
       "    }\n",
       "\n",
       "    .dataframe thead th {\n",
       "        text-align: right;\n",
       "    }\n",
       "</style>\n",
       "<table border=\"1\" class=\"dataframe\">\n",
       "  <thead>\n",
       "    <tr style=\"text-align: right;\">\n",
       "      <th></th>\n",
       "      <th>First Name</th>\n",
       "      <th>Last Name</th>\n",
       "      <th>Email</th>\n",
       "      <th>Application Date</th>\n",
       "      <th>Country</th>\n",
       "      <th>YOE</th>\n",
       "      <th>Seniority</th>\n",
       "      <th>Technology</th>\n",
       "      <th>Code Challenge Score</th>\n",
       "      <th>Technical Interview Score</th>\n",
       "    </tr>\n",
       "  </thead>\n",
       "  <tbody>\n",
       "    <tr>\n",
       "      <th>0</th>\n",
       "      <td>Bernadette</td>\n",
       "      <td>Langworth</td>\n",
       "      <td>leonard91@yahoo.com</td>\n",
       "      <td>2021-02-26</td>\n",
       "      <td>Norway</td>\n",
       "      <td>2</td>\n",
       "      <td>Intern</td>\n",
       "      <td>Data Engineer</td>\n",
       "      <td>3</td>\n",
       "      <td>3</td>\n",
       "    </tr>\n",
       "    <tr>\n",
       "      <th>1</th>\n",
       "      <td>Camryn</td>\n",
       "      <td>Reynolds</td>\n",
       "      <td>zelda56@hotmail.com</td>\n",
       "      <td>2021-09-09</td>\n",
       "      <td>Panama</td>\n",
       "      <td>10</td>\n",
       "      <td>Intern</td>\n",
       "      <td>Data Engineer</td>\n",
       "      <td>2</td>\n",
       "      <td>10</td>\n",
       "    </tr>\n",
       "    <tr>\n",
       "      <th>2</th>\n",
       "      <td>Larue</td>\n",
       "      <td>Spinka</td>\n",
       "      <td>okey_schultz41@gmail.com</td>\n",
       "      <td>2020-04-14</td>\n",
       "      <td>Belarus</td>\n",
       "      <td>4</td>\n",
       "      <td>Mid-Level</td>\n",
       "      <td>Client Success</td>\n",
       "      <td>10</td>\n",
       "      <td>9</td>\n",
       "    </tr>\n",
       "    <tr>\n",
       "      <th>3</th>\n",
       "      <td>Arch</td>\n",
       "      <td>Spinka</td>\n",
       "      <td>elvera_kulas@yahoo.com</td>\n",
       "      <td>2020-10-01</td>\n",
       "      <td>Eritrea</td>\n",
       "      <td>25</td>\n",
       "      <td>Trainee</td>\n",
       "      <td>QA Manual</td>\n",
       "      <td>7</td>\n",
       "      <td>1</td>\n",
       "    </tr>\n",
       "    <tr>\n",
       "      <th>4</th>\n",
       "      <td>Larue</td>\n",
       "      <td>Altenwerth</td>\n",
       "      <td>minnie.gislason@gmail.com</td>\n",
       "      <td>2020-05-20</td>\n",
       "      <td>Myanmar</td>\n",
       "      <td>13</td>\n",
       "      <td>Mid-Level</td>\n",
       "      <td>Social Media Community Management</td>\n",
       "      <td>9</td>\n",
       "      <td>7</td>\n",
       "    </tr>\n",
       "    <tr>\n",
       "      <th>...</th>\n",
       "      <td>...</td>\n",
       "      <td>...</td>\n",
       "      <td>...</td>\n",
       "      <td>...</td>\n",
       "      <td>...</td>\n",
       "      <td>...</td>\n",
       "      <td>...</td>\n",
       "      <td>...</td>\n",
       "      <td>...</td>\n",
       "      <td>...</td>\n",
       "    </tr>\n",
       "    <tr>\n",
       "      <th>49995</th>\n",
       "      <td>Bethany</td>\n",
       "      <td>Shields</td>\n",
       "      <td>rocky_mitchell@hotmail.com</td>\n",
       "      <td>2022-01-09</td>\n",
       "      <td>Dominican Republic</td>\n",
       "      <td>27</td>\n",
       "      <td>Trainee</td>\n",
       "      <td>Security</td>\n",
       "      <td>2</td>\n",
       "      <td>1</td>\n",
       "    </tr>\n",
       "    <tr>\n",
       "      <th>49996</th>\n",
       "      <td>Era</td>\n",
       "      <td>Swaniawski</td>\n",
       "      <td>dolores.roob@hotmail.com</td>\n",
       "      <td>2020-06-02</td>\n",
       "      <td>Morocco</td>\n",
       "      <td>21</td>\n",
       "      <td>Lead</td>\n",
       "      <td>Game Development</td>\n",
       "      <td>1</td>\n",
       "      <td>2</td>\n",
       "    </tr>\n",
       "    <tr>\n",
       "      <th>49997</th>\n",
       "      <td>Martin</td>\n",
       "      <td>Lakin</td>\n",
       "      <td>savanah.stracke@gmail.com</td>\n",
       "      <td>2018-12-15</td>\n",
       "      <td>Uganda</td>\n",
       "      <td>20</td>\n",
       "      <td>Trainee</td>\n",
       "      <td>System Administration</td>\n",
       "      <td>6</td>\n",
       "      <td>1</td>\n",
       "    </tr>\n",
       "    <tr>\n",
       "      <th>49998</th>\n",
       "      <td>Aliya</td>\n",
       "      <td>Abernathy</td>\n",
       "      <td>vivienne.fritsch@yahoo.com</td>\n",
       "      <td>2020-05-30</td>\n",
       "      <td>Czech Republic</td>\n",
       "      <td>20</td>\n",
       "      <td>Senior</td>\n",
       "      <td>Database Administration</td>\n",
       "      <td>0</td>\n",
       "      <td>0</td>\n",
       "    </tr>\n",
       "    <tr>\n",
       "      <th>49999</th>\n",
       "      <td>Coleman</td>\n",
       "      <td>Wisozk</td>\n",
       "      <td>abigayle.crooks@yahoo.com</td>\n",
       "      <td>2022-06-13</td>\n",
       "      <td>Palau</td>\n",
       "      <td>15</td>\n",
       "      <td>Intern</td>\n",
       "      <td>Mulesoft</td>\n",
       "      <td>3</td>\n",
       "      <td>1</td>\n",
       "    </tr>\n",
       "  </tbody>\n",
       "</table>\n",
       "<p>50000 rows × 10 columns</p>\n",
       "</div>"
      ],
      "text/plain": [
       "       First Name   Last Name                       Email Application Date  \\\n",
       "0      Bernadette   Langworth         leonard91@yahoo.com       2021-02-26   \n",
       "1          Camryn    Reynolds         zelda56@hotmail.com       2021-09-09   \n",
       "2           Larue      Spinka    okey_schultz41@gmail.com       2020-04-14   \n",
       "3            Arch      Spinka      elvera_kulas@yahoo.com       2020-10-01   \n",
       "4           Larue  Altenwerth   minnie.gislason@gmail.com       2020-05-20   \n",
       "...           ...         ...                         ...              ...   \n",
       "49995     Bethany     Shields  rocky_mitchell@hotmail.com       2022-01-09   \n",
       "49996         Era  Swaniawski    dolores.roob@hotmail.com       2020-06-02   \n",
       "49997      Martin       Lakin   savanah.stracke@gmail.com       2018-12-15   \n",
       "49998       Aliya   Abernathy  vivienne.fritsch@yahoo.com       2020-05-30   \n",
       "49999     Coleman      Wisozk   abigayle.crooks@yahoo.com       2022-06-13   \n",
       "\n",
       "                  Country  YOE  Seniority                         Technology  \\\n",
       "0                  Norway    2     Intern                      Data Engineer   \n",
       "1                  Panama   10     Intern                      Data Engineer   \n",
       "2                 Belarus    4  Mid-Level                     Client Success   \n",
       "3                 Eritrea   25    Trainee                          QA Manual   \n",
       "4                 Myanmar   13  Mid-Level  Social Media Community Management   \n",
       "...                   ...  ...        ...                                ...   \n",
       "49995  Dominican Republic   27    Trainee                           Security   \n",
       "49996             Morocco   21       Lead                   Game Development   \n",
       "49997              Uganda   20    Trainee              System Administration   \n",
       "49998      Czech Republic   20     Senior            Database Administration   \n",
       "49999               Palau   15     Intern                           Mulesoft   \n",
       "\n",
       "       Code Challenge Score  Technical Interview Score  \n",
       "0                         3                          3  \n",
       "1                         2                         10  \n",
       "2                        10                          9  \n",
       "3                         7                          1  \n",
       "4                         9                          7  \n",
       "...                     ...                        ...  \n",
       "49995                     2                          1  \n",
       "49996                     1                          2  \n",
       "49997                     6                          1  \n",
       "49998                     0                          0  \n",
       "49999                     3                          1  \n",
       "\n",
       "[50000 rows x 10 columns]"
      ]
     },
     "execution_count": 4,
     "metadata": {},
     "output_type": "execute_result"
    }
   ],
   "source": [
    "df"
   ]
  },
  {
   "cell_type": "markdown",
   "id": "36912f13",
   "metadata": {},
   "source": [
    "## Connection with PostgreSQL"
   ]
  },
  {
   "cell_type": "code",
   "execution_count": 5,
   "id": "bdff64f5-b858-4c0d-a37f-315cdc636232",
   "metadata": {},
   "outputs": [
    {
     "name": "stdout",
     "output_type": "stream",
     "text": [
      "✅ Conexión exitosa a PostgreSQL\n"
     ]
    }
   ],
   "source": [
    "\n",
    "engine = get_engine()\n",
    "\n",
    "try:\n",
    "    with engine.connect() as connection:\n",
    "        print(\"✅ Conexión exitosa a PostgreSQL\")\n",
    "except Exception as e:\n",
    "    print(\"❌ Error de conexión:\", e)\n"
   ]
  },
  {
   "cell_type": "markdown",
   "id": "c5094106",
   "metadata": {},
   "source": [
    "## Table creation"
   ]
  },
  {
   "cell_type": "code",
   "execution_count": 6,
   "id": "3320169d-3d5c-4fd9-8ab1-400e4bb1c8cf",
   "metadata": {},
   "outputs": [
    {
     "name": "stdout",
     "output_type": "stream",
     "text": [
      "✅ Conexión exitosa a PostgreSQL\n",
      "Tablas en la base de datos: ['candidates', 'cleaned_candidates']\n"
     ]
    }
   ],
   "source": [
    "Base = declarative_base()\n",
    "\n",
    "class Candidates(Base):\n",
    "    __tablename__ = 'candidates'\n",
    "    id = Column(Integer, primary_key=True, autoincrement=True)\n",
    "    first_name = Column(String(50))\n",
    "    last_name = Column(String(50))\n",
    "    email = Column(String(100))\n",
    "    application_date = Column(Date)\n",
    "    country = Column(String(200))\n",
    "    yoe = Column(Integer)\n",
    "    seniority = Column(String(200))\n",
    "    technology = Column(String(200))\n",
    "    code_challenge_score = Column(Integer)\n",
    "    technical_interview_score = Column(Integer)\n",
    "\n",
    "try:\n",
    "    with engine.connect() as connection:\n",
    "        print(\"✅ Conexión exitosa a PostgreSQL\")\n",
    "except Exception as e:\n",
    "    print(\"❌ Error de conexión:\", e)\n",
    "\n",
    "\n",
    "inspector = inspect(engine)\n",
    "print(\"Tablas en la base de datos:\", inspector.get_table_names())\n",
    "\n"
   ]
  },
  {
   "cell_type": "markdown",
   "id": "46dbce60",
   "metadata": {},
   "source": [
    "## Transfering the data to the database in PostgreSQL"
   ]
  },
  {
   "cell_type": "code",
   "execution_count": null,
   "id": "9c2b47d5-a86e-48f5-aa59-7b33edde535d",
   "metadata": {},
   "outputs": [
    {
     "name": "stdout",
     "output_type": "stream",
     "text": [
      "✅ Datos insertados en PostgreSQL correctamente\n"
     ]
    }
   ],
   "source": [
    "df.to_sql(\"candidates\", engine, if_exists=\"replace\", index=False)\n",
    "\n",
    "print(\"✅ Datos insertados en PostgreSQL correctamente\")"
   ]
  },
  {
   "cell_type": "markdown",
   "id": "091ca1b4",
   "metadata": {},
   "source": [
    "## Verifying the data transference"
   ]
  },
  {
   "cell_type": "code",
   "execution_count": null,
   "id": "68dba874-be9d-41b8-b4c0-4d85372740bd",
   "metadata": {},
   "outputs": [
    {
     "name": "stdout",
     "output_type": "stream",
     "text": [
      "('Bernadette', 'Langworth', 'leonard91@yahoo.com', '2021-02-26', 'Norway', 2, 'Intern', 'Data Engineer', 3, 3)\n",
      "('Camryn', 'Reynolds', 'zelda56@hotmail.com', '2021-09-09', 'Panama', 10, 'Intern', 'Data Engineer', 2, 10)\n",
      "('Larue', 'Spinka', 'okey_schultz41@gmail.com', '2020-04-14', 'Belarus', 4, 'Mid-Level', 'Client Success', 10, 9)\n",
      "('Arch', 'Spinka', 'elvera_kulas@yahoo.com', '2020-10-01', 'Eritrea', 25, 'Trainee', 'QA Manual', 7, 1)\n",
      "('Larue', 'Altenwerth', 'minnie.gislason@gmail.com', '2020-05-20', 'Myanmar', 13, 'Mid-Level', 'Social Media Community Management', 9, 7)\n",
      "('Alec', 'Abbott', 'juanita_hansen@gmail.com', '2019-08-17', 'Zimbabwe', 8, 'Junior', 'Adobe Experience Manager', 2, 9)\n",
      "('Allison', 'Jacobs', 'alba_rolfson27@yahoo.com', '2018-05-18', 'Wallis and Futuna', 19, 'Trainee', 'Sales', 2, 9)\n",
      "('Nya', 'Skiles', 'madisen.zulauf@gmail.com', '2021-12-09', 'Myanmar', 1, 'Lead', 'Mulesoft', 2, 5)\n",
      "('Mose', 'Lakin', 'dale_murazik@hotmail.com', '2018-03-13', 'Italy', 18, 'Lead', 'Social Media Community Management', 7, 10)\n",
      "('Terrance', 'Zieme', 'dustin31@hotmail.com', '2022-04-08', 'Timor-Leste', 25, 'Lead', 'DevOps', 2, 0)\n",
      "('Aiyana', 'Goodwin', 'vallie.damore@yahoo.com', '2019-09-22', 'Armenia', 24, 'Intern', 'Development - CMS Backend', 4, 9)\n",
      "('Emilia', 'Waelchi', 'peter.grady@gmail.com', '2020-07-15', 'French Southern Territories', 28, 'Lead', 'DevOps', 7, 4)\n",
      "('Terrell', 'Streich', 'meta92@yahoo.com', '2021-12-27', 'Chad', 3, 'Mid-Level', 'Salesforce', 5, 10)\n",
      "('Hilda', 'Rodriguez', 'jordan.hyatt@hotmail.com', '2020-05-09', 'El Salvador', 16, 'Junior', 'System Administration', 7, 8)\n",
      "('Hope', 'Hansen', 'clemmie.bruen@hotmail.com', '2019-10-12', 'Mozambique', 18, 'Architect', 'Security', 4, 1)\n"
     ]
    }
   ],
   "source": [
    "query = \"SELECT * FROM candidates LIMIT 15;\"\n",
    "\n",
    "with engine.connect() as connection:\n",
    "    result = connection.execute(text(query))\n",
    "    for row in result:\n",
    "        print(row)  \n"
   ]
  },
  {
   "cell_type": "code",
   "execution_count": null,
   "id": "3da00251-afae-442c-8dba-6515f286e887",
   "metadata": {},
   "outputs": [],
   "source": []
  }
 ],
 "metadata": {
  "kernelspec": {
   "display_name": "Python 3 (ipykernel)",
   "language": "python",
   "name": "python3"
  },
  "language_info": {
   "codemirror_mode": {
    "name": "ipython",
    "version": 3
   },
   "file_extension": ".py",
   "mimetype": "text/x-python",
   "name": "python",
   "nbconvert_exporter": "python",
   "pygments_lexer": "ipython3",
   "version": "3.12.6"
  }
 },
 "nbformat": 4,
 "nbformat_minor": 5
}
